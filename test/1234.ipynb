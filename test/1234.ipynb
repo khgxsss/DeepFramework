{
 "cells": [
  {
   "cell_type": "code",
   "execution_count": null,
   "metadata": {},
   "outputs": [],
   "source": [
    "import matplotlib.pyplot as plt\n",
    "import numpy as np"
   ]
  },
  {
   "cell_type": "code",
   "execution_count": null,
   "metadata": {},
   "outputs": [],
   "source": [
    "t = np.arange(0, 20, 1)\n",
    "r = 2\n",
    "분자 = np.array([r**x for x in t])\n",
    "분모 = np.array([r**(x+2) for x in t])\n",
    "plt.xlabel('n')\n",
    "plt.plot(분자, 'r-', 분모, 'g-')\n",
    "plt.show()"
   ]
  },
  {
   "cell_type": "code",
   "execution_count": null,
   "metadata": {},
   "outputs": [],
   "source": [
    "분자_나누기_분모 = 분자/분모\n",
    "plt.plot(분자_나누기_분모, 'b-')\n",
    "plt.ylim([0,1])\n",
    "plt.show()"
   ]
  },
  {
   "cell_type": "code",
   "execution_count": null,
   "metadata": {},
   "outputs": [],
   "source": [
    "아보가드로수 = 6.02*(10^3)\n",
    "\n",
    "실제_내책상_위에_갖다놓은_CH4_분자개수 = 3000.0 # 개\n",
    "\n",
    "몇몰일까 =\\\n",
    "    실제_내책상_위에_갖다놓은_CH4_분자개수 / 아보가드로수\n",
    "\n",
    "print(str(몇몰일까) + ' / 100000000000000000000 mol ' )"
   ]
  },
  {
   "cell_type": "code",
   "execution_count": 1,
   "metadata": {},
   "outputs": [],
   "source": [
    "import numpy as np"
   ]
  },
  {
   "cell_type": "code",
   "execution_count": 11,
   "metadata": {},
   "outputs": [
    {
     "data": {
      "text/plain": [
       "array([[-1.5,  0.5,  0.5],\n",
       "       [ 2. ,  0. , -1. ],\n",
       "       [ 0.5, -0.5,  0.5]])"
      ]
     },
     "execution_count": 11,
     "metadata": {},
     "output_type": "execute_result"
    }
   ],
   "source": [
    "a = np.array([[1.0,1.0,1.0],[3.0,2.0,1.0],[2.0,1.0,2.0]])\n",
    "b = np.linalg.inv(a).round(2)\n",
    "# print(np.dot(a,b))\n",
    "b"
   ]
  },
  {
   "cell_type": "code",
   "execution_count": 11,
   "metadata": {},
   "outputs": [
    {
     "name": "stdout",
     "output_type": "stream",
     "text": [
      "2000000000000000000000000000000\n",
      "1073741824000000000000000000000000000000\n",
      "False\n"
     ]
    }
   ],
   "source": [
    "a = (10**30)*2\n",
    "b = (2*10)**30\n",
    "print(a)\n",
    "print(b)\n",
    "print(a==b)"
   ]
  },
  {
   "cell_type": "code",
   "execution_count": null,
   "metadata": {},
   "outputs": [],
   "source": []
  }
 ],
 "metadata": {
  "kernelspec": {
   "display_name": "Python 3.8.8 64-bit",
   "language": "python",
   "name": "python3"
  },
  "language_info": {
   "codemirror_mode": {
    "name": "ipython",
    "version": 3
   },
   "file_extension": ".py",
   "mimetype": "text/x-python",
   "name": "python",
   "nbconvert_exporter": "python",
   "pygments_lexer": "ipython3",
   "version": "3.8.8"
  },
  "orig_nbformat": 4,
  "vscode": {
   "interpreter": {
    "hash": "733fec2c7b86635bdd3d7c50fca6bca6884a2cce1a0f6b7f69f98bde447910aa"
   }
  }
 },
 "nbformat": 4,
 "nbformat_minor": 2
}
