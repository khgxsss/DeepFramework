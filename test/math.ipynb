{
 "cells": [
  {
   "cell_type": "code",
   "execution_count": 1,
   "metadata": {},
   "outputs": [],
   "source": [
    "# GRADED FUNCTION\n",
    "\n",
    "import numpy as np\n",
    "\n",
    "\n",
    "# Our function will go through the matrix replacing each row in order turning it into echelon form.\n",
    "\n",
    "# If at any point it fails because it can't put a 1 in the leading diagonal,\n",
    "\n",
    "# we will return the value True, otherwise, we will return False.\n",
    "\n",
    "# There is no need to edit this function.\n",
    "\n",
    "def isSingular(A) :\n",
    "\n",
    "    B = np.array(A, dtype=np.float_) # Make B as a copy of A, since we're going to alter it's values.\n",
    "\n",
    "    try:\n",
    "\n",
    "        fixRowZero(B)\n",
    "\n",
    "        fixRowOne(B)\n",
    "\n",
    "        fixRowTwo(B)\n",
    "\n",
    "        fixRowThree(B)\n",
    "\n",
    "    except MatrixIsSingular:\n",
    "\n",
    "        return True\n",
    "\n",
    "    return False\n",
    "\n",
    "\n",
    "# This next line defines our error flag. For when things go wrong if the matrix is singular.\n",
    "\n",
    "# There is no need to edit this line.\n",
    "\n",
    "class MatrixIsSingular(Exception): pass\n",
    "\n",
    "\n",
    "# For Row Zero, all we require is the first element is equal to 1.\n",
    "\n",
    "# We'll divide the row by the value of A[0, 0].\n",
    "\n",
    "# This will get us in trouble though if A[0, 0] equals 0, so first we'll test for that,\n",
    "\n",
    "# and if this is true, we'll add one of the lower rows to the first one before the division.\n",
    "\n",
    "# We'll repeat the test going down each lower row until we can do the division.\n",
    "\n",
    "# There is no need to edit this function.\n",
    "\n",
    "def fixRowZero(A) :\n",
    "\n",
    "    if A[0,0] == 0 :\n",
    "\n",
    "        A[0] = A[0] + A[1]\n",
    "\n",
    "    if A[0,0] == 0 :\n",
    "\n",
    "        A[0] = A[0] + A[2]\n",
    "\n",
    "    if A[0,0] == 0 :\n",
    "\n",
    "        A[0] = A[0] + A[3]\n",
    "\n",
    "    if A[0,0] == 0 :\n",
    "\n",
    "        raise MatrixIsSingular()\n",
    "\n",
    "    A[0] = A[0] / A[0,0]\n",
    "\n",
    "    return A\n",
    "\n",
    "\n",
    "# First we'll set the sub-diagonal elements to zero, i.e. A[1,0].\n",
    "\n",
    "# Next we want the diagonal element to be equal to one.\n",
    "\n",
    "# We'll divide the row by the value of A[1, 1].\n",
    "\n",
    "# Again, we need to test if this is zero.\n",
    "\n",
    "# If so, we'll add a lower row and repeat setting the sub-diagonal elements to zero.\n",
    "\n",
    "# There is no need to edit this function.\n",
    "\n",
    "def fixRowOne(A) :\n",
    "\n",
    "    A[1] = A[1] - A[1,0] * A[0]\n",
    "\n",
    "    if A[1,1] == 0 :\n",
    "\n",
    "        A[1] = A[1] + A[2]\n",
    "\n",
    "        A[1] = A[1] - A[1,0] * A[0]\n",
    "\n",
    "    if A[1,1] == 0 :\n",
    "\n",
    "        A[1] = A[1] + A[3]\n",
    "\n",
    "        A[1] = A[1] - A[1,0] * A[0]\n",
    "\n",
    "    if A[1,1] == 0 :\n",
    "\n",
    "        raise MatrixIsSingular()\n",
    "\n",
    "    A[1] = A[1] / A[1,1]\n",
    "\n",
    "    return A\n",
    "\n",
    "\n",
    "# This is the first function that you should complete.\n",
    "\n",
    "# Follow the instructions inside the function at each comment.\n",
    "\n",
    "def fixRowTwo(A) :\n",
    "\n",
    "    # Insert code below to set the sub-diagonal elements of row two to zero (there are two of them).\n",
    "\n",
    "    A[2] = A[2] - A[2,0] * A[0]\n",
    "\n",
    "    A[2] = A[2] - A[2,1] * A[1]\n",
    "\n",
    "    # Next we'll test that the diagonal element is not zero.\n",
    "\n",
    "    if A[2,2] == 0 :\n",
    "\n",
    "    # Insert code below that adds a lower row to row 2.\n",
    "\n",
    "        A[2] = A[2] + A[3]\n",
    "\n",
    "    # Now repeat your code which sets the sub-diagonal elements to zero.\n",
    "\n",
    "        A[2] = A[2] - A[2,0] * A[0]\n",
    "\n",
    "        A[2] = A[2] - A[2,1] * A[1]\n",
    "\n",
    "    if A[2,2] == 0 :\n",
    "\n",
    "        raise MatrixIsSingular()\n",
    "\n",
    "    # Finally set the diagonal element to one by dividing the whole row by that element.\n",
    "\n",
    "    A[2] = A[2] / A[2,2]\n",
    "\n",
    "    return A\n",
    "\n",
    "\n",
    "# You should also complete this function\n",
    "\n",
    "# Follow the instructions inside the function at each comment.\n",
    "\n",
    "def fixRowThree(A) :\n",
    "\n",
    "    # Insert code below to set the sub-diagonal elements of row three to zero.\n",
    "\n",
    "    A[3] = A[3] - A[3,0] * A[0]\n",
    "\n",
    "    A[3] = A[3] - A[3,1] * A[1]\n",
    "\n",
    "    A[3] = A[3] - A[3,2] * A[2]\n",
    "\n",
    "    # Complete the if statement to test if the diagonal element is zero.\n",
    "\n",
    "    if A[3,3] == 0 :\n",
    "\n",
    "        raise MatrixIsSingular()\n",
    "\n",
    "    # Transform the row to set the diagonal element to one.\n",
    "\n",
    "    A[3] = A[3] / A[3,3]\n",
    "\n",
    "    return A"
   ]
  },
  {
   "cell_type": "code",
   "execution_count": 6,
   "metadata": {},
   "outputs": [
    {
     "name": "stdout",
     "output_type": "stream",
     "text": [
      "[[13 14 12 13]\n",
      " [ 7  6 17  4]\n",
      " [15  6  8 11]\n",
      " [30 12 16 22]]\n"
     ]
    }
   ],
   "source": [
    "A = np.random.randint(2, 21, (4,4))\n",
    "A[3] = 2*A[2]\n",
    "print(A)"
   ]
  },
  {
   "cell_type": "code",
   "execution_count": 7,
   "metadata": {},
   "outputs": [
    {
     "data": {
      "text/plain": [
       "True"
      ]
     },
     "execution_count": 7,
     "metadata": {},
     "output_type": "execute_result"
    }
   ],
   "source": [
    "isSingular(A)"
   ]
  },
  {
   "cell_type": "code",
   "execution_count": 11,
   "metadata": {},
   "outputs": [
    {
     "data": {
      "text/plain": [
       "array([[1, 1, 0, 1],\n",
       "       [0, 1, 0, 0],\n",
       "       [1, 0, 1, 1],\n",
       "       [0, 0, 0, 1]])"
      ]
     },
     "execution_count": 11,
     "metadata": {},
     "output_type": "execute_result"
    }
   ],
   "source": [
    "fixRowZero(A)"
   ]
  },
  {
   "cell_type": "code",
   "execution_count": 12,
   "metadata": {},
   "outputs": [
    {
     "data": {
      "text/plain": [
       "array([[1, 1, 0, 1],\n",
       "       [0, 1, 0, 0],\n",
       "       [1, 0, 1, 1],\n",
       "       [0, 0, 0, 1]])"
      ]
     },
     "execution_count": 12,
     "metadata": {},
     "output_type": "execute_result"
    }
   ],
   "source": [
    "fixRowOne(A)"
   ]
  },
  {
   "cell_type": "code",
   "execution_count": 13,
   "metadata": {},
   "outputs": [
    {
     "data": {
      "text/plain": [
       "array([[1, 1, 0, 1],\n",
       "       [0, 1, 0, 0],\n",
       "       [0, 0, 1, 0],\n",
       "       [0, 0, 0, 1]])"
      ]
     },
     "execution_count": 13,
     "metadata": {},
     "output_type": "execute_result"
    }
   ],
   "source": [
    "fixRowTwo(A)"
   ]
  },
  {
   "cell_type": "code",
   "execution_count": 14,
   "metadata": {},
   "outputs": [
    {
     "data": {
      "text/plain": [
       "array([[1, 1, 0, 1],\n",
       "       [0, 1, 0, 0],\n",
       "       [0, 0, 1, 0],\n",
       "       [0, 0, 0, 1]])"
      ]
     },
     "execution_count": 14,
     "metadata": {},
     "output_type": "execute_result"
    }
   ],
   "source": [
    "fixRowThree(A)"
   ]
  },
  {
   "cell_type": "code",
   "execution_count": null,
   "metadata": {},
   "outputs": [],
   "source": []
  }
 ],
 "metadata": {
  "kernelspec": {
   "display_name": "deeplearning",
   "language": "python",
   "name": "python3"
  },
  "language_info": {
   "codemirror_mode": {
    "name": "ipython",
    "version": 3
   },
   "file_extension": ".py",
   "mimetype": "text/x-python",
   "name": "python",
   "nbconvert_exporter": "python",
   "pygments_lexer": "ipython3",
   "version": "3.9.16"
  },
  "orig_nbformat": 4
 },
 "nbformat": 4,
 "nbformat_minor": 2
}
